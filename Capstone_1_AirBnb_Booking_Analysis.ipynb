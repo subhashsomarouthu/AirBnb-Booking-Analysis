{
  "nbformat": 4,
  "nbformat_minor": 0,
  "metadata": {
    "colab": {
      "private_outputs": true,
      "provenance": [],
      "include_colab_link": true
    },
    "kernelspec": {
      "name": "python3",
      "display_name": "Python 3"
    },
    "language_info": {
      "name": "python"
    }
  },
  "cells": [
    {
      "cell_type": "markdown",
      "metadata": {
        "id": "view-in-github",
        "colab_type": "text"
      },
      "source": [
        "<a href=\"https://colab.research.google.com/github/subhashsomarouthu/AirBnb-Booking-Analysis/blob/main/Capstone_1_AirBnb_Booking_Analysis.ipynb\" target=\"_parent\"><img src=\"https://colab.research.google.com/assets/colab-badge.svg\" alt=\"Open In Colab\"/></a>"
      ]
    },
    {
      "cell_type": "markdown",
      "source": [
        "# **Project Name**    - AirBnb Booking Analysis\n",
        "\n"
      ],
      "metadata": {
        "id": "vncDsAP0Gaoa"
      }
    },
    {
      "cell_type": "markdown",
      "source": [
        "##### **Project Type**    - EDA\n",
        "##### **Contribution**    - Individual\n"
      ],
      "metadata": {
        "id": "beRrZCGUAJYm"
      }
    },
    {
      "cell_type": "markdown",
      "source": [
        "# **Project Summary -**"
      ],
      "metadata": {
        "id": "FJNUwmbgGyua"
      }
    },
    {
      "cell_type": "markdown",
      "source": [
        "Airbnb is an American San Francisco-based company operating an online marketplace for short-term homestays and experiences.In this project data set of airbnb's newyork city has been given to analyse which has around 48,895 observations with 16 columns and it is a mix between categorical and numeric values. The main aim of this project is to analyze the data and find the relationship between hosts and guests and improve airbnb's business. Airbnb is looking into business initiative, marketing and implementing innovative additional services.\n",
        "\n",
        "I performed detailed Explorative analysis on the dataset to find the best solution for Airbnb to iprove their business. Data cleaning has been and handling of duplicate values, outliers and null values to later visualize the dat. A lot of key insights has been found after analysing the relationship among the variables and came up with some solutions for Airbnb. Airbnb needs to focus on giving incentives to those hosts who are hosting more customers. They also need to focus on room types and also need to review on successful hosts to implement the same thing in other places. Manhattan being the most place of listings need to maintain or come up with more innovative ideas to make guests feel like home.\n",
        "\n",
        "The solutions I proposed are based on my understanding and analysis done on the dataset. There could be need of some variables such as ratings, user review type to understand more about customer behaviour. Attributes like ameneties would also make huge impact on customer behaviour.To sum up, It is a rich dataset containing various attributes to analysis, however a lot can be analyzed not limiting to my findings."
      ],
      "metadata": {
        "id": "F6v_1wHtG2nS"
      }
    },
    {
      "cell_type": "markdown",
      "source": [
        "# **GitHub Link -**"
      ],
      "metadata": {
        "id": "w6K7xa23Elo4"
      }
    },
    {
      "cell_type": "markdown",
      "source": [
        "https://github.com/subhashsomarouthu/AirBnb-Booking-Analysis.git"
      ],
      "metadata": {
        "id": "h1o69JH3Eqqn"
      }
    },
    {
      "cell_type": "markdown",
      "source": [
        "#**Introduction**"
      ],
      "metadata": {
        "id": "3Qm6Qr9T-AL3"
      }
    },
    {
      "cell_type": "markdown",
      "source": [
        "Airbnb is an American San Francisco-based company operating an online marketplace for short-term homestays and experiences.Airbnb is a shortened version of its original name, AirBedandBreakfast.com.This San-Francisco based startup offers you someone’s home as a place to stay instead of a hotel.The company acts as a broker and charges a commission from each booking. The company was founded in 2008 by Brian Chesky, Nathan Blecharczyk, and Joe Gebbia. "
      ],
      "metadata": {
        "id": "4IjmVdJw99JD"
      }
    },
    {
      "cell_type": "markdown",
      "source": [
        "#**Problem Statement**"
      ],
      "metadata": {
        "id": "8b5_C1JO-Oco"
      }
    },
    {
      "cell_type": "markdown",
      "source": [
        "Since 2008, guests and hosts have used Airbnb to expand on traveling possibilities and present a more unique, personalized way of experiencing the world. Nowadays, Airbnb became one of a kind service that is used by the whole world. Data analysts become a crucial factor for the company that provided millions of listings through Airbnb. These listings generate a lot of data that can be analyzed and used for security, business decisions, understanding of customers’ and providers’ behavior on the platform, implementing innovative additional services, guiding marketing initiatives, and much more. There are competitors like Vrbo, until unless any business strive to improve,that will go down. Because, nothing is permanent."
      ],
      "metadata": {
        "id": "DpeJGUA3kjGy"
      }
    },
    {
      "cell_type": "markdown",
      "source": [
        "This dataset has around 48,895 observations with 16 columns and it is a mix between categorical and numeric values.\n",
        "\n",
        "Host_name is a categorical variable here. Also neighbourhood_group (comprising of Manhattan, Brooklyn, Queens, Bronx, Staten Island), neighbourhood and room_type (private,shared,Entire home/apt) fall into this category.\n",
        "\n",
        "id,latitude,longitude,price,minimum_nights,number_of_reviews,last_review, reviews_per_month, calculated_host_listings_count, availability_365 are numerical variables."
      ],
      "metadata": {
        "id": "53-BuO1tViBj"
      }
    },
    {
      "cell_type": "markdown",
      "source": [
        "#### **Define Your Business Objective?**"
      ],
      "metadata": {
        "id": "PH-0ReGfmX4f"
      }
    },
    {
      "cell_type": "markdown",
      "source": [
        "1. To take business decisions by understanding customer's and providers' behavior on the platform or during their stays.\n",
        "2. To increase bookings through the platform by implementing innovative additional services and via marketing intiatives."
      ],
      "metadata": {
        "id": "PhDvGCAqmjP1"
      }
    },
    {
      "cell_type": "markdown",
      "source": [
        "# **General Guidelines** : -  "
      ],
      "metadata": {
        "id": "mDgbUHAGgjLW"
      }
    },
    {
      "cell_type": "markdown",
      "source": [
        "1.   Well-structured, formatted, and commented code is required. \n",
        "2.   Exception Handling, Production Grade Code & Deployment Ready Code will be a plus. Those students will be awarded some additional credits. \n",
        "     \n",
        "     The additional credits will have advantages over other students during Star Student selection.\n",
        "       \n",
        "             [ Note: - Deployment Ready Code is defined as, the whole .ipynb notebook should be executable in one go\n",
        "                       without a single error logged. ]\n",
        "\n",
        "3.   Each and every logic should have proper comments.\n",
        "4. You may add as many number of charts you want. Make Sure for each and every chart the following format should be answered.\n",
        "        \n",
        "\n",
        "```\n",
        "# Chart visualization code\n",
        "```\n",
        "            \n",
        "\n",
        "*   Why did you pick the specific chart?\n",
        "*   What is/are the insight(s) found from the chart?\n",
        "* Will the gained insights help creating a positive business impact? \n",
        "Are there any insights that lead to negative growth? Justify with specific reason.\n",
        "\n",
        "5. You have to create at least 20 logical & meaningful charts having important insights.\n",
        "\n",
        "\n",
        "[ Hints : - Do the Vizualization in  a structured way while following \"UBM\" Rule. \n",
        "\n",
        "U - Univariate Analysis,\n",
        "\n",
        "B - Bivariate Analysis (Numerical - Categorical, Numerical - Numerical, Categorical - Categorical)\n",
        "\n",
        "M - Multivariate Analysis\n",
        " ]\n",
        "\n",
        "\n",
        "\n"
      ],
      "metadata": {
        "id": "ZrxVaUj-hHfC"
      }
    },
    {
      "cell_type": "markdown",
      "source": [
        "# ***Let's Begin !***"
      ],
      "metadata": {
        "id": "O_i_v8NEhb9l"
      }
    },
    {
      "cell_type": "markdown",
      "source": [
        "## ***1. Know Your Data***"
      ],
      "metadata": {
        "id": "HhfV-JJviCcP"
      }
    },
    {
      "cell_type": "markdown",
      "source": [
        "### Import Libraries"
      ],
      "metadata": {
        "id": "Y3lxredqlCYt"
      }
    },
    {
      "cell_type": "code",
      "source": [
        "# Import Libraries\n",
        "\n",
        "import numpy as np\n",
        "import pandas as pd\n",
        "from numpy import math\n",
        "from numpy import loadtxt\n",
        "import seaborn as sns\n",
        "import matplotlib.pyplot as plt\n",
        "%matplotlib inline\n",
        "from matplotlib import rcParams\n",
        "\n",
        "\n",
        "\n",
        "import warnings\n",
        "warnings.filterwarnings('ignore')\n",
        "\n",
        "!pip install missingno"
      ],
      "metadata": {
        "id": "M8Vqi-pPk-HR"
      },
      "execution_count": null,
      "outputs": []
    },
    {
      "cell_type": "markdown",
      "source": [
        "### Dataset Loading"
      ],
      "metadata": {
        "id": "3RnN4peoiCZX"
      }
    },
    {
      "cell_type": "code",
      "source": [
        "# Load Dataset\n",
        "from google.colab import drive\n",
        "drive.mount('/content/drive')"
      ],
      "metadata": {
        "id": "4CkvbW_SlZ_R"
      },
      "execution_count": null,
      "outputs": []
    },
    {
      "cell_type": "code",
      "source": [
        "file_path = \"/content/drive/MyDrive/Datasets/Data_Science_almabetter/capstone_project_module1/\"\n",
        "df = pd.read_csv(file_path + \"Airbnb NYC 2019.csv\")"
      ],
      "metadata": {
        "id": "wYxOIvwzJRbE"
      },
      "execution_count": null,
      "outputs": []
    },
    {
      "cell_type": "markdown",
      "source": [
        "### Dataset First View"
      ],
      "metadata": {
        "id": "x71ZqKXriCWQ"
      }
    },
    {
      "cell_type": "code",
      "source": [
        "# Dataset First Look\n",
        "df.head()"
      ],
      "metadata": {
        "id": "LWNFOSvLl09H"
      },
      "execution_count": null,
      "outputs": []
    },
    {
      "cell_type": "code",
      "source": [
        "df.tail(2)"
      ],
      "metadata": {
        "id": "n4l5fGgqOlfO"
      },
      "execution_count": null,
      "outputs": []
    },
    {
      "cell_type": "markdown",
      "source": [
        "### Dataset Rows & Columns count"
      ],
      "metadata": {
        "id": "7hBIi_osiCS2"
      }
    },
    {
      "cell_type": "code",
      "source": [
        "# Dataset Rows & Columns count\n",
        "df.shape"
      ],
      "metadata": {
        "id": "Kllu7SJgmLij"
      },
      "execution_count": null,
      "outputs": []
    },
    {
      "cell_type": "code",
      "source": [
        "df.size"
      ],
      "metadata": {
        "id": "uIA1_pCCO3hh"
      },
      "execution_count": null,
      "outputs": []
    },
    {
      "cell_type": "markdown",
      "source": [
        "### Dataset Information"
      ],
      "metadata": {
        "id": "JlHwYmJAmNHm"
      }
    },
    {
      "cell_type": "code",
      "source": [
        "# Dataset Info\n",
        "df.info()"
      ],
      "metadata": {
        "id": "e9hRXRi6meOf"
      },
      "execution_count": null,
      "outputs": []
    },
    {
      "cell_type": "markdown",
      "source": [
        "#### Duplicate Values"
      ],
      "metadata": {
        "id": "35m5QtbWiB9F"
      }
    },
    {
      "cell_type": "code",
      "source": [
        "# Dataset Duplicate Value Count\n",
        "len(df[df.duplicated()])"
      ],
      "metadata": {
        "id": "1sLdpKYkmox0"
      },
      "execution_count": null,
      "outputs": []
    },
    {
      "cell_type": "markdown",
      "source": [
        "#### Missing Values/Null Values"
      ],
      "metadata": {
        "id": "PoPl-ycgm1ru"
      }
    },
    {
      "cell_type": "code",
      "source": [
        "# Missing Values/Null Values Count\n",
        "df.isnull().sum()"
      ],
      "metadata": {
        "id": "GgHWkxvamxVg"
      },
      "execution_count": null,
      "outputs": []
    },
    {
      "cell_type": "code",
      "source": [
        "import missingno as msno"
      ],
      "metadata": {
        "id": "kq_We12hb23E"
      },
      "execution_count": null,
      "outputs": []
    },
    {
      "cell_type": "code",
      "source": [
        "# Visualizing the missing values\n",
        "# Checking Null Value by plotting Heatmap\n",
        "sns.heatmap(df.isnull().transpose(),cbar_kws={'label':'Missing Data'})"
      ],
      "metadata": {
        "id": "3q5wnI3om9sJ"
      },
      "execution_count": null,
      "outputs": []
    },
    {
      "cell_type": "code",
      "source": [
        "#plotting heatmap using missingno(missing number) library\n",
        "msno.heatmap(df,figsize=(8,8))"
      ],
      "metadata": {
        "id": "Bc-zPK9eb-6J"
      },
      "execution_count": null,
      "outputs": []
    },
    {
      "cell_type": "code",
      "source": [
        "#categorical columns\n",
        "categorical_columns = df.select_dtypes(include = 'object').columns\n",
        "print(f' The following are the categorical features in the dataset: {list(categorical_columns)}')"
      ],
      "metadata": {
        "id": "z9_lJDEeyG-J"
      },
      "execution_count": null,
      "outputs": []
    },
    {
      "cell_type": "code",
      "source": [
        "#numerical values/non categorical\n",
        "numerical_columns = df.select_dtypes(exclude = 'object').columns\n",
        "print(f' The following are the non categorical features in the dataset:{list(numerical_columns)}') \n"
      ],
      "metadata": {
        "id": "ZUsbrJCwyyZG"
      },
      "execution_count": null,
      "outputs": []
    },
    {
      "cell_type": "markdown",
      "source": [
        "### What did you know about your dataset?"
      ],
      "metadata": {
        "id": "H0kj-8xxnORC"
      }
    },
    {
      "cell_type": "markdown",
      "source": [
        "This dataset has around 48,895 observations with 16 columns and it is a mix between categorical and numeric values.\n",
        "\n",
        "Host_name is a categorical variable here. Also neighbourhood_group (comprising of Manhattan, Brooklyn, Queens, Bronx, Staten Island), neighbourhood and room_type (private,shared,Entire home/apt) fall into this category.\n",
        "\n",
        "id,latitude,longitude,price,minimum_nights,number_of_reviews,last_review, reviews_per_month, calculated_host_listings_count, availability_365 are numerical variables.\n",
        "**Null Values:**\n",
        "There are no duplicate values but has huge number of null values in last_review and reviews_per_month, which we need to handle."
      ],
      "metadata": {
        "id": "gfoNAAC-nUe_"
      }
    },
    {
      "cell_type": "markdown",
      "source": [
        "## ***2. Understanding Your Variables***"
      ],
      "metadata": {
        "id": "nA9Y7ga8ng1Z"
      }
    },
    {
      "cell_type": "code",
      "source": [
        "# Dataset Columns\n",
        "(df.columns)"
      ],
      "metadata": {
        "id": "j7xfkqrt5Ag5"
      },
      "execution_count": null,
      "outputs": []
    },
    {
      "cell_type": "code",
      "source": [
        "# Dataset Describe\n",
        "df.describe(include='all')"
      ],
      "metadata": {
        "id": "DnOaZdaE5Q5t"
      },
      "execution_count": null,
      "outputs": []
    },
    {
      "cell_type": "code",
      "source": [
        "df.describe()"
      ],
      "metadata": {
        "id": "ydCvALdb0TNh"
      },
      "execution_count": null,
      "outputs": []
    },
    {
      "cell_type": "markdown",
      "source": [
        "### Variables Description "
      ],
      "metadata": {
        "id": "PBTbrJXOngz2"
      }
    },
    {
      "cell_type": "markdown",
      "source": [
        "* **id**        - unique listing id\n",
        "* **name**      - description of the property/accomodation\n",
        "* **host id**   - unique id for hosts.\n",
        "* **host_name** - name of the host. There are 11452 hosts out of 48895 in which 21 are null values and remaining suggest that a single host owns multiple properties\n",
        "\n",
        "* **neighbourhood_group** - location. we have 5 unique locations(Manhattan, Brooklyn, Queens, Bronx, Staten Island)\n",
        "\n",
        "* **neighbourhood** -area under neighbourhood group\n",
        "* **Latitude**      -location of property\n",
        "* **Longitude**     -location of property\n",
        "* **room_type**     - type of accomodation.3 unique rooms(private,shared,Entire home/apt)\n",
        "* **price**         - price of listing/property\n",
        "* **minimum_nights**- minimum nights to be paid for.\n",
        "* **number_of_reviews** - total count of reviews of that listing\n",
        "* **last_review**       - last review date of that listing\n",
        "* **reviews_per_month** - number of reviews per month of that listing\n",
        "* **calculated_host_listings_count -total number of listings registered under host\n",
        "* **availability_365**  -  number of days that the listing is availabale during 365 days"
      ],
      "metadata": {
        "id": "aJV4KIxSnxay"
      }
    },
    {
      "cell_type": "markdown",
      "source": [
        "### Check Unique Values for each variable."
      ],
      "metadata": {
        "id": "u3PMJOP6ngxN"
      }
    },
    {
      "cell_type": "code",
      "source": [
        "# Check Unique Values for each variable.\n",
        "for i in df.columns.tolist():\n",
        "  print(\"unique values in \",i,\"is\",df[i].nunique())"
      ],
      "metadata": {
        "id": "zms12Yq5n-jE"
      },
      "execution_count": null,
      "outputs": []
    },
    {
      "cell_type": "markdown",
      "source": [
        "## 3. ***Data Wrangling***"
      ],
      "metadata": {
        "id": "dauF4eBmngu3"
      }
    },
    {
      "cell_type": "markdown",
      "source": [
        "### Data Wrangling Code"
      ],
      "metadata": {
        "id": "bKJF3rekwFvQ"
      }
    },
    {
      "cell_type": "code",
      "source": [
        "# Write your code to make your dataset analysis ready.\n",
        "#creating a copy of my dataset\n",
        "\n",
        "df_work=df.copy()"
      ],
      "metadata": {
        "id": "wk-9a2fpoLcV"
      },
      "execution_count": null,
      "outputs": []
    },
    {
      "cell_type": "code",
      "source": [
        "df_work.isnull().sum()"
      ],
      "metadata": {
        "id": "5pV33oPLJj4L"
      },
      "execution_count": null,
      "outputs": []
    },
    {
      "cell_type": "code",
      "source": [
        "#dropping unwanted columns, name is not required for our analysis and last review also not requires and it contains huge number of null vaues.\n",
        "df_work.drop(['name','last_review'], axis=1, inplace=True)\n"
      ],
      "metadata": {
        "id": "1ZrudMo85tO3"
      },
      "execution_count": null,
      "outputs": []
    },
    {
      "cell_type": "code",
      "source": [
        "df_work.head(2)"
      ],
      "metadata": {
        "id": "mBF6tg71LJzx"
      },
      "execution_count": null,
      "outputs": []
    },
    {
      "cell_type": "code",
      "source": [
        "#before handling null values\n",
        "df_work.isnull().sum()"
      ],
      "metadata": {
        "id": "eYbEbXes30Ym"
      },
      "execution_count": null,
      "outputs": []
    },
    {
      "cell_type": "code",
      "source": [
        "#filling null values of reviews_per_month with 0 and host_name with anonymous\n",
        "df_work.reviews_per_month.fillna(0, inplace=True)\n",
        "df_work['host_name'].fillna('anonymous',inplace=True)"
      ],
      "metadata": {
        "id": "ClAUHxAz8dtl"
      },
      "execution_count": null,
      "outputs": []
    },
    {
      "cell_type": "code",
      "source": [
        "#after handling null values\n",
        "df_work.isnull().sum()"
      ],
      "metadata": {
        "id": "4I2Snm-m_QV_"
      },
      "execution_count": null,
      "outputs": []
    },
    {
      "cell_type": "markdown",
      "source": [
        "* **Handling Outliers**"
      ],
      "metadata": {
        "id": "U9NXbUf-4ng5"
      }
    },
    {
      "cell_type": "code",
      "source": [
        "#describe the dataset\n",
        "df_work.describe()"
      ],
      "metadata": {
        "id": "aXLUe5Ls_uDH"
      },
      "execution_count": null,
      "outputs": []
    },
    {
      "cell_type": "markdown",
      "source": [
        "Here max price of listing is 10000 and min price is 0 which doesn't make sense and for minimumn_nights the difference between max and min is huge. I am assuming outliers. availability_365 min is 0 which seems unreal."
      ],
      "metadata": {
        "id": "tWPNoJmI45C5"
      }
    },
    {
      "cell_type": "code",
      "source": [
        "#Boxplot to identify outliers in price\n",
        "plt.figure(figsize=(12,12))\n",
        "plt.boxplot(df_work[\"price\"], vert=False)\n",
        "plt.title(\"Detecting outliers from Price\")\n",
        "plt.xlabel('Price')\n",
        "plt.show()"
      ],
      "metadata": {
        "id": "13DEdekI51CG"
      },
      "execution_count": null,
      "outputs": []
    },
    {
      "cell_type": "code",
      "source": [
        "#Boxplot to identify outliers in minimum_nights\n",
        "plt.figure(figsize=(12,12))\n",
        "plt.boxplot(df_work[\"minimum_nights\"], vert=False)\n",
        "plt.title(\"Detecting outliers from minimum_nights\")\n",
        "plt.xlabel('number of nights')\n",
        "plt.show()"
      ],
      "metadata": {
        "id": "T822Ic5D_hOR"
      },
      "execution_count": null,
      "outputs": []
    },
    {
      "cell_type": "markdown",
      "source": [
        "**We can use Quantile based Flooring and capping by computing 10th and 90th percentile and replacing them with outliers**\n",
        "                           or\n",
        "**we can remove those outliers or replace**                           "
      ],
      "metadata": {
        "id": "1TkXHefkFKHL"
      }
    },
    {
      "cell_type": "code",
      "source": [
        "#drop rows that price equle to zero and availability equle to 0.\n",
        "df_work.drop(df_work[df_work['price']==0].index,inplace=True)\n",
        "df_work.drop(df_work[df_work['availability_365']==0].index,inplace=True)\n",
        "\n"
      ],
      "metadata": {
        "id": "5ji4fD7SA1NO"
      },
      "execution_count": null,
      "outputs": []
    },
    {
      "cell_type": "code",
      "source": [
        "#quantile capping for minimum_nights\n",
        "print(df_work[\"minimum_nights\"]. quantile(0.90))\n"
      ],
      "metadata": {
        "id": "iEcUuobkKjfo"
      },
      "execution_count": null,
      "outputs": []
    },
    {
      "cell_type": "code",
      "source": [
        "df_work.loc[df_work['minimum_nights']>30,'minimum_nights']\n",
        "# there are only roughly 600 observations so we can replace them by quantile capping."
      ],
      "metadata": {
        "id": "G00PulDJLOXS"
      },
      "execution_count": null,
      "outputs": []
    },
    {
      "cell_type": "code",
      "source": [
        "#replace minimum_nights greater than 30 with quantile capping\n",
        "\n",
        "df_work['minimum_nights'] = np.where(df_work['minimum_nights']>30.0, 30.0, df_work['minimum_nights'])"
      ],
      "metadata": {
        "id": "gtSdBMQkBB17"
      },
      "execution_count": null,
      "outputs": []
    },
    {
      "cell_type": "code",
      "source": [
        "df_work.describe()"
      ],
      "metadata": {
        "id": "-FLyNpgeCB_f"
      },
      "execution_count": null,
      "outputs": []
    },
    {
      "cell_type": "code",
      "source": [
        "#which room type people are choosing more.\n",
        "guest_choice_of_room=df_work['room_type'].value_counts()\n",
        "guest_choice_of_room"
      ],
      "metadata": {
        "id": "STQXnpH9Awcr"
      },
      "execution_count": null,
      "outputs": []
    },
    {
      "cell_type": "code",
      "source": [
        "#most number of listings by a host in all neighbourhoods.\n",
        "most_listings_hosts = df_work.groupby(['host_name'])['calculated_host_listings_count'].sum().reset_index()\n",
        "top_10_hosts=most_listings_hosts.sort_values(by='calculated_host_listings_count',ascending=False).head(10)\n",
        "top_10_hosts\n"
      ],
      "metadata": {
        "id": "RXA9CFJZBZwm"
      },
      "execution_count": null,
      "outputs": []
    },
    {
      "cell_type": "code",
      "source": [
        "#most number of listings by neighbourhood group and their hosts\n",
        "most_listings_hosts = df_work.groupby(['host_name','neighbourhood_group'])['calculated_host_listings_count'].max().reset_index()\n",
        "most_listings_hosts.sort_values(by='calculated_host_listings_count',ascending=False).head(10)\n"
      ],
      "metadata": {
        "id": "_GbyCFvlmJqK"
      },
      "execution_count": null,
      "outputs": []
    },
    {
      "cell_type": "code",
      "source": [
        "#Average price of property based on location\n",
        "avg_preffered_price = df_work.groupby(['neighbourhood_group','room_type'], as_index=False)['price'].mean().rename(columns={'neighbourhood_group':'Location','price':'Average Price'})\n",
        "avg_preffered_price"
      ],
      "metadata": {
        "id": "V5HGOfjEDlnT"
      },
      "execution_count": null,
      "outputs": []
    },
    {
      "cell_type": "code",
      "source": [
        "# Number of Airbnbs listed in each neighbourhood group\n",
        "max_airbnb =df_work.groupby(['neighbourhood'])['id'].count().reset_index().rename(columns = {'id':'count'}).sort_values(by='count', ascending = False)\n",
        "max_airbnb"
      ],
      "metadata": {
        "id": "_73V8cBPpEJr"
      },
      "execution_count": null,
      "outputs": []
    },
    {
      "cell_type": "code",
      "source": [
        "# Finding which neighbourhood group has got maximum number of reviews. \n",
        "neighbourhood_group_reviews = df_work.groupby(['neighbourhood_group'])['number_of_reviews'].max().reset_index().sort_values(by = 'number_of_reviews', ascending = False)\n",
        "neighbourhood_group_reviews"
      ],
      "metadata": {
        "id": "Rr17g-1mpwJ6"
      },
      "execution_count": null,
      "outputs": []
    },
    {
      "cell_type": "code",
      "source": [
        "#Busy hosts assuming would be those having maximum number of reviews assuming people are booking frequently here.\n",
        "busy_hosts = df_work.groupby(['host_name','room_type','neighbourhood_group','neighbourhood'])['number_of_reviews'].max().reset_index()\n",
        "busy_hosts = busy_hosts.sort_values(by='number_of_reviews', ascending=False).head(10)\n",
        "busy_hosts"
      ],
      "metadata": {
        "id": "50Lrv5TTxpV_"
      },
      "execution_count": null,
      "outputs": []
    },
    {
      "cell_type": "code",
      "source": [
        "#Top 10 neighbourhoods with most number of listings\n",
        "top_10_neighbourhood_listings = df_work.groupby(['neighbourhood'])['id'].count().nlargest(10)\n",
        "top_10_neighbourhood_listings"
      ],
      "metadata": {
        "id": "MVcU0sc6zwss"
      },
      "execution_count": null,
      "outputs": []
    },
    {
      "cell_type": "code",
      "source": [
        "#highest rent according to location\n",
        "max_price_df = df_work.groupby('neighbourhood_group',as_index=False)['price'].max().sort_values(['price'],ascending = False).rename(columns = {'price':'Maximum price','neighbourhood_group':'Location'})\n",
        "max_price_df"
      ],
      "metadata": {
        "id": "hIvqqM5Q8BKj"
      },
      "execution_count": null,
      "outputs": []
    },
    {
      "cell_type": "code",
      "source": [
        "#Get the lowest rent according to location\n",
        "min_price_df = df_work.groupby('neighbourhood_group',as_index=False)['price'].min().sort_values(['price'],ascending = True).rename(columns = {'price':'Minimum price','neighbourhood_group':'Location'})\n",
        "min_price_df"
      ],
      "metadata": {
        "id": "Eq0YvBQy8IyT"
      },
      "execution_count": null,
      "outputs": []
    },
    {
      "cell_type": "code",
      "source": [
        "#merge the dataframe of minimum and maximum price according to location\n",
        "merge_price_df = pd.merge(max_price_df, min_price_df, on='Location')\n",
        "merge_price_df\n",
        "     "
      ],
      "metadata": {
        "id": "lwRjNTO58a1y"
      },
      "execution_count": null,
      "outputs": []
    },
    {
      "cell_type": "code",
      "source": [
        "df_work.info()"
      ],
      "metadata": {
        "id": "1pk-u7MGhz8s"
      },
      "execution_count": null,
      "outputs": []
    },
    {
      "cell_type": "markdown",
      "source": [
        "### What all manipulations have you done and insights you found?"
      ],
      "metadata": {
        "id": "MSa1f5Uengrz"
      }
    },
    {
      "cell_type": "markdown",
      "source": [
        "I have removed unwanted columns which are not required for our analysis like last review(contains too much null values and also I thought not relevent for analysis), name(name of the property does not effect business). I could have removed id and host id as well because pandas bydefault provide index for the entire data. But for the sake of now I have not removed those columns.\n",
        "**Null values**\n",
        "I have found null values in host name and handled them by filling as anonymous and null values in reviews_per_month by filling zeroes.\n",
        "\n",
        "**Outliers**\n",
        "\n",
        "I have found price of property and available_365 minimum values as 0 during statistical analysis, as it does not make any sense, I have removed the data with 0(it is one of the technique to handle outlier, although not a good practice to delete).\n",
        "\n",
        "There is a huge difference between max and min value of minimum_nights,found ourliers using box plot. I handled it using quantile flooring and capping method. I have replaced all those values above 90% quantile with 90% quantile value.\n",
        "\n",
        "**Data Wrangling**\n",
        "I have found guests are more choosing entire room/apt and private rooms over shared rooms.\n",
        "\n",
        "Hosts have higheset number of listings in manhattan and brooklyn over others. I think thats because of the beiong finacial district and heart of newyork, different kinds of people come by and stay throughout the year.\n",
        "\n",
        "I have come to know that Manhattan has the highest average price in all room types compared to others. Followed by Brookly for entire aprt and private room, but the shared room is cheapest here compared to all."
      ],
      "metadata": {
        "id": "LbyXE7I1olp8"
      }
    },
    {
      "cell_type": "markdown",
      "source": [
        "## ***4. Data Vizualization, Storytelling & Experimenting with charts : Understand the relationships between variables***"
      ],
      "metadata": {
        "id": "GF8Ens_Soomf"
      }
    },
    {
      "cell_type": "markdown",
      "source": [
        "#### Chart - 1"
      ],
      "metadata": {
        "id": "0wOQAZs5pc--"
      }
    },
    {
      "cell_type": "code",
      "source": [
        "# Visualizing Neighbourhood_group univariate analysis\n",
        "plt.figure(figsize = (8,8))\n",
        "sns.countplot(df_work['neighbourhood_group'])\n",
        "\n",
        "plt.show()"
      ],
      "metadata": {
        "id": "7v_ESjsspbW7"
      },
      "execution_count": null,
      "outputs": []
    },
    {
      "cell_type": "markdown",
      "source": [
        "##### 1. Why did you pick the specific chart?"
      ],
      "metadata": {
        "id": "K5QZ13OEpz2H"
      }
    },
    {
      "cell_type": "markdown",
      "source": [
        "I have used count plot to show neighbourhood_group with their count and can decide where airbnbs are most listed"
      ],
      "metadata": {
        "id": "XESiWehPqBRc"
      }
    },
    {
      "cell_type": "markdown",
      "source": [
        "##### 2. What is/are the insight(s) found from the chart?"
      ],
      "metadata": {
        "id": "lQ7QKXXCp7Bj"
      }
    },
    {
      "cell_type": "markdown",
      "source": [
        "It is evident from the chart that Manhattan has the highest listings and staten island has lowest."
      ],
      "metadata": {
        "id": "C_j1G7yiqdRP"
      }
    },
    {
      "cell_type": "markdown",
      "source": [
        "##### 3. Will the gained insights help creating a positive business impact? \n",
        "Are there any insights that lead to negative growth? Justify with specific reason.\n",
        "\n",
        "By knowing, most number of listings, we can see the demand in that place and also can increase the busiess activities there. In the lowest listing, one can identify whether it is due to no demand or anyother reasons and try to increase business by marketing initiative. we will look into that later."
      ],
      "metadata": {
        "id": "448CDAPjqfQr"
      }
    },
    {
      "cell_type": "markdown",
      "source": [],
      "metadata": {
        "id": "3cspy4FjqxJW"
      }
    },
    {
      "cell_type": "markdown",
      "source": [
        "#### Chart - 2"
      ],
      "metadata": {
        "id": "KSlN3yHqYklG"
      }
    },
    {
      "cell_type": "code",
      "source": [
        "# Map of Neighbourhood group\n",
        "plt.figure(figsize=(12,8))\n",
        "sns.scatterplot(df_work.longitude, df_work.latitude, hue=df_work.neighbourhood_group)\n",
        "plt.title('NewYork City Map')\n",
        "plt.show()"
      ],
      "metadata": {
        "id": "R4YgtaqtYklH"
      },
      "execution_count": null,
      "outputs": []
    },
    {
      "cell_type": "markdown",
      "source": [
        "##### 1. Why did you pick the specific chart?"
      ],
      "metadata": {
        "id": "t6dVpIINYklI"
      }
    },
    {
      "cell_type": "markdown",
      "source": [
        "I used scatter plot to see the neighbourhood group using latitude and longitude to verify the places in the map."
      ],
      "metadata": {
        "id": "5aaW0BYyYklI"
      }
    },
    {
      "cell_type": "markdown",
      "source": [
        "##### 2. What is/are the insight(s) found from the chart?"
      ],
      "metadata": {
        "id": "ijmpgYnKYklI"
      }
    },
    {
      "cell_type": "markdown",
      "source": [
        "we can understand the various places of neighbourhood groups in this demographic distribution"
      ],
      "metadata": {
        "id": "PSx9atu2YklI"
      }
    },
    {
      "cell_type": "markdown",
      "source": [
        "##### 3. Will the gained insights help creating a positive business impact? \n",
        "Are there any insights that lead to negative growth? Justify with specific reason."
      ],
      "metadata": {
        "id": "-JiQyfWJYklI"
      }
    },
    {
      "cell_type": "markdown",
      "source": [
        "Yes, by unserstanding the presence of places, I can analyse the data in much more sense with regards to business aspects."
      ],
      "metadata": {
        "id": "BcBbebzrYklV"
      }
    },
    {
      "cell_type": "markdown",
      "source": [
        "#### Chart - 3"
      ],
      "metadata": {
        "id": "EM7whBJCYoAo"
      }
    },
    {
      "cell_type": "markdown",
      "source": [
        "##### 1. Why did you pick the specific chart?"
      ],
      "metadata": {
        "id": "fge-S5ZAYoAp"
      }
    },
    {
      "cell_type": "code",
      "source": [
        "# Chart - 3 visualization code\n",
        "\n",
        "plt.figure(figsize=(8,8))\n",
        "plt.title(\"Room Type\")\n",
        "g = plt.pie(guest_choice_of_room, labels=guest_choice_of_room.index,autopct='%1.1f%%')\n",
        "plt.show()"
      ],
      "metadata": {
        "id": "t6GMdE67YoAp"
      },
      "execution_count": null,
      "outputs": []
    },
    {
      "cell_type": "markdown",
      "source": [
        "Pie chart gives more wholesome part of informations clearly. It is best used for univariate analysis. I have used this to identify which room type is prefered most."
      ],
      "metadata": {
        "id": "5dBItgRVYoAp"
      }
    },
    {
      "cell_type": "markdown",
      "source": [
        "##### 2. What is/are the insight(s) found from the chart?"
      ],
      "metadata": {
        "id": "85gYPyotYoAp"
      }
    },
    {
      "cell_type": "markdown",
      "source": [
        "It can be seen clearly that people are opting more for entire home/apart and private rooms rather than shared rooms."
      ],
      "metadata": {
        "id": "4jstXR6OYoAp"
      }
    },
    {
      "cell_type": "markdown",
      "source": [
        "##### 3. Will the gained insights help creating a positive business impact? \n",
        "Are there any insights that lead to negative growth? Justify with specific reason."
      ],
      "metadata": {
        "id": "RoGjAbkUYoAp"
      }
    },
    {
      "cell_type": "markdown",
      "source": [
        "Yes, By knowing which room type is preferred by guests, airbnb can try to increase those type of room types and can expand their business. They also need to look into shared room occupancy rate and can limit those room types or increase the facilities for that so that guests can choose shared room also. Further analysis is required for that."
      ],
      "metadata": {
        "id": "zfJ8IqMcYoAp"
      }
    },
    {
      "cell_type": "markdown",
      "source": [
        "#### Chart - 4"
      ],
      "metadata": {
        "id": "4Of9eVA-YrdM"
      }
    },
    {
      "cell_type": "code",
      "source": [
        "#Map of Room types\n",
        "plt.figure(figsize=(10,6))\n",
        "sns.scatterplot(df_work.longitude, df_work.latitude, hue=df_work.room_type)\n",
        "plt.title('Map of Room Types')\n",
        "plt.show()\n"
      ],
      "metadata": {
        "id": "irlUoxc8YrdO"
      },
      "execution_count": null,
      "outputs": []
    },
    {
      "cell_type": "markdown",
      "source": [
        "#### Chart - 5"
      ],
      "metadata": {
        "id": "bamQiAODYuh1"
      }
    },
    {
      "cell_type": "code",
      "source": [
        "# Chart - 5 visualization code\n",
        "plt.figure(figsize=(12,8))\n",
        "plt.title(\"Room Type in a Neighbourhood Group\")\n",
        "sns.countplot(df_work.neighbourhood_group,hue=df_work.room_type, palette=\"muted\")\n",
        "plt.show()"
      ],
      "metadata": {
        "id": "TIJwrbroYuh3"
      },
      "execution_count": null,
      "outputs": []
    },
    {
      "cell_type": "markdown",
      "source": [
        "##### 1. Why did you pick the specific chart?"
      ],
      "metadata": {
        "id": "QHF8YVU7Yuh3"
      }
    },
    {
      "cell_type": "markdown",
      "source": [
        "I used countplot basically produces a histogram/bar type chart to count values of categorical data. I have used it to count room types in a particualr neighbourhood group.\n"
      ],
      "metadata": {
        "id": "dcxuIMRPYuh3"
      }
    },
    {
      "cell_type": "markdown",
      "source": [
        "##### 2. What is/are the insight(s) found from the chart?"
      ],
      "metadata": {
        "id": "GwzvFGzlYuh3"
      }
    },
    {
      "cell_type": "markdown",
      "source": [
        "By seeing the chart, I can say that manhattan has more number of entire home/apart followed by Brooklyn and least is at staten island. private rooms are more in Brooklyn followed by Manhattan and least at staten island. shared rooms are less in all the regions."
      ],
      "metadata": {
        "id": "uyqkiB8YYuh3"
      }
    },
    {
      "cell_type": "markdown",
      "source": [
        "##### 3. Will the gained insights help creating a positive business impact? \n",
        "Are there any insights that lead to negative growth? Justify with specific reason."
      ],
      "metadata": {
        "id": "qYpmQ266Yuh3"
      }
    },
    {
      "cell_type": "markdown",
      "source": [
        "Yes, the graph shows entire home/apart and private rooms are being more preferred by the guests. In this way airbnb can increase these type of rooms.\n",
        "\n",
        "why shared rooms are not being preferred may be the price is very close to private and private is always better."
      ],
      "metadata": {
        "id": "_WtzZ_hCYuh4"
      }
    },
    {
      "cell_type": "markdown",
      "source": [
        "#### Chart - 6"
      ],
      "metadata": {
        "id": "OH-pJp9IphqM"
      }
    },
    {
      "cell_type": "code",
      "source": [
        "# Chart - 6 visualization code\n"
      ],
      "metadata": {
        "id": "kuRf4wtuphqN"
      },
      "execution_count": null,
      "outputs": []
    },
    {
      "cell_type": "code",
      "source": [
        "#Neighbourhood group vs availability_365\n",
        "plt.style.use('classic')\n",
        "plt.figure(figsize=(13,7))\n",
        "plt.title(\"Neighbourhood Group vs. Availability Room\")\n",
        "sns.boxplot(data=df_work, x='neighbourhood_group',y='availability_365')\n",
        "plt.show()"
      ],
      "metadata": {
        "id": "whQ1OTHZcTW6"
      },
      "execution_count": null,
      "outputs": []
    },
    {
      "cell_type": "markdown",
      "source": [
        "##### 1. Why did you pick the specific chart?"
      ],
      "metadata": {
        "id": "bbFf2-_FphqN"
      }
    },
    {
      "cell_type": "markdown",
      "source": [
        "To understand the availability of rooms through out the year in different neighbourhood groups."
      ],
      "metadata": {
        "id": "loh7H2nzphqN"
      }
    },
    {
      "cell_type": "markdown",
      "source": [
        "##### 2. What is/are the insight(s) found from the chart?"
      ],
      "metadata": {
        "id": "_ouA3fa0phqN"
      }
    },
    {
      "cell_type": "markdown",
      "source": [
        "By seeing the above box plot, It seems rooms in staten island are availble nearly 250 days throughout the year and remaining come close to 150.\n",
        "By this I can say there is no much demand in staten island compared to remaining"
      ],
      "metadata": {
        "id": "VECbqPI7phqN"
      }
    },
    {
      "cell_type": "markdown",
      "source": [
        "##### 3. Will the gained insights help creating a positive business impact? \n",
        "Are there any insights that lead to negative growth? Justify with specific reason."
      ],
      "metadata": {
        "id": "Seke61FWphqN"
      }
    },
    {
      "cell_type": "markdown",
      "source": [
        "By seeing the properties in staten island and by the less demand, they can do less business and spend less on staten island interms of marketing and focus on remaining more."
      ],
      "metadata": {
        "id": "DW4_bGpfphqN"
      }
    },
    {
      "cell_type": "markdown",
      "source": [
        "#### Chart - 7"
      ],
      "metadata": {
        "id": "PIIx-8_IphqN"
      }
    },
    {
      "cell_type": "code",
      "source": [
        "# Chart - 7 visualization code\n",
        "plt.figure(figsize=(12,10))\n",
        "plt.title(\"Neighbourhood Group Price Distribution <=2000\")\n",
        "sns.boxplot(y=\"price\",x ='neighbourhood_group' ,data = df_work[df_work.price<2000])\n",
        "plt.show()"
      ],
      "metadata": {
        "id": "lqAIGUfyphqO"
      },
      "execution_count": null,
      "outputs": []
    },
    {
      "cell_type": "markdown",
      "source": [
        "##### 1. Why did you pick the specific chart?"
      ],
      "metadata": {
        "id": "t27r6nlMphqO"
      }
    },
    {
      "cell_type": "markdown",
      "source": [
        "Box plots are used to show distributions of numeric data values, especially when you want to compare them between multiple groups.I have used this to see neighbourhood_price distribution."
      ],
      "metadata": {
        "id": "iv6ro40sphqO"
      }
    },
    {
      "cell_type": "markdown",
      "source": [
        "##### 2. What is/are the insight(s) found from the chart?"
      ],
      "metadata": {
        "id": "r2jJGEOYphqO"
      }
    },
    {
      "cell_type": "markdown",
      "source": [
        "from the above box plot manhattan is the costliest area with more average price followed by brooklyn and cheapest is Bronx. Manhattan has wide range of airbnbs with all kinds of prices"
      ],
      "metadata": {
        "id": "Po6ZPi4hphqO"
      }
    },
    {
      "cell_type": "markdown",
      "source": [
        "##### 3. Will the gained insights help creating a positive business impact? \n",
        "Are there any insights that lead to negative growth? Justify with specific reason."
      ],
      "metadata": {
        "id": "b0JNsNcRphqO"
      }
    },
    {
      "cell_type": "markdown",
      "source": [],
      "metadata": {
        "id": "xvSq8iUTphqO"
      }
    },
    {
      "cell_type": "markdown",
      "source": [
        "#### Chart - 8"
      ],
      "metadata": {
        "id": "BZR9WyysphqO"
      }
    },
    {
      "cell_type": "code",
      "source": [
        "# Visualizing the hosts with most listings.\n",
        "plt.rcParams['figure.figsize'] = (12,6)\n",
        "host_names = top_10_hosts['host_name']\n",
        "host_listings_count = top_10_hosts['calculated_host_listings_count']\n",
        "plt.bar(host_names,host_listings_count)\n",
        "plt.title('Hosts with most listings in NYC')\n",
        "plt.xlabel('Host Names',{'fontsize':15})\n",
        "plt.ylabel('Number of host listings',{'fontsize':15})\n",
        "plt.show()"
      ],
      "metadata": {
        "id": "TdPTWpAVphqO"
      },
      "execution_count": null,
      "outputs": []
    },
    {
      "cell_type": "markdown",
      "source": [
        "##### 1. Why did you pick the specific chart?"
      ],
      "metadata": {
        "id": "jj7wYXLtphqO"
      }
    },
    {
      "cell_type": "markdown",
      "source": [
        "I chose bar graph to depict top hosts who lists properties in airbnb"
      ],
      "metadata": {
        "id": "Ob8u6rCTphqO"
      }
    },
    {
      "cell_type": "markdown",
      "source": [
        "##### 2. What is/are the insight(s) found from the chart?"
      ],
      "metadata": {
        "id": "eZrbJ2SmphqO"
      }
    },
    {
      "cell_type": "markdown",
      "source": [
        "By seeing the graph,I understood top hosts are corporate companies rather than individuals."
      ],
      "metadata": {
        "id": "mZtgC_hjphqO"
      }
    },
    {
      "cell_type": "markdown",
      "source": [
        "##### 3. Will the gained insights help creating a positive business impact? \n",
        "Are there any insights that lead to negative growth? Justify with specific reason."
      ],
      "metadata": {
        "id": "rFu4xreNphqO"
      }
    },
    {
      "cell_type": "markdown",
      "source": [
        "I think it will help airbnb a lot by collabarating with the companies which are hosting and can offer discounts or by implementing some unique features to attract more customers. It would be easy to implement in a large scale as top hosts are organizations."
      ],
      "metadata": {
        "id": "ey_0qi68phqO"
      }
    },
    {
      "cell_type": "markdown",
      "source": [
        "#### Chart - 9"
      ],
      "metadata": {
        "id": "YJ55k-q6phqO"
      }
    },
    {
      "cell_type": "code",
      "source": [
        "# Visualising the number of reviews in each neighbourhood group through pie chart\n",
        "plt.figure(figsize=(12,8))\n",
        "reviews = neighbourhood_group_reviews['number_of_reviews']\n",
        "plt.pie(reviews, labels = neighbourhood_group_reviews['neighbourhood_group'], autopct ='%0.2f%%', explode = [0.1,0.1,0.1,0.1,0.1] )\n",
        "plt.title('Number of reviews in each neighbourhood group', {'fontsize': 15})\n",
        "plt.show()\n"
      ],
      "metadata": {
        "id": "B2aS4O1ophqO"
      },
      "execution_count": null,
      "outputs": []
    },
    {
      "cell_type": "markdown",
      "source": [
        "##### 1. Why did you pick the specific chart?"
      ],
      "metadata": {
        "id": "gCFgpxoyphqP"
      }
    },
    {
      "cell_type": "markdown",
      "source": [
        "To show which neighbourhood group has highest reviews in a piechart."
      ],
      "metadata": {
        "id": "TVxDimi2phqP"
      }
    },
    {
      "cell_type": "markdown",
      "source": [
        "##### 2. What is/are the insight(s) found from the chart?"
      ],
      "metadata": {
        "id": "OVtJsKN_phqQ"
      }
    },
    {
      "cell_type": "markdown",
      "source": [
        "Queens and Manhattan has highest number of reviews followed by Brooklyn.\n",
        "It means guests are loving the airbnbs in those places. But positive or negative review could have given more understanding about guests preferences.\n",
        "Queens hosts minimum number of airbnbs compared to manhattan and Brooklyn, but still it has more reviews, It implies more people are loving properties in queens than Manhattan or brooklyn"
      ],
      "metadata": {
        "id": "ngGi97qjphqQ"
      }
    },
    {
      "cell_type": "markdown",
      "source": [
        "##### 3. Will the gained insights help creating a positive business impact? \n",
        "Are there any insights that lead to negative growth? Justify with specific reason."
      ],
      "metadata": {
        "id": "lssrdh5qphqQ"
      }
    },
    {
      "cell_type": "markdown",
      "source": [
        "Airbnb has to review the properties in Queens and need to implement same features in other places also to make guests feel more happy about their stay.Because comparing the number of listings in manhattan, Brooklyn with Queens, high number of revies from queens with less airbnbs indicates properties their are excellent."
      ],
      "metadata": {
        "id": "tBpY5ekJphqQ"
      }
    },
    {
      "cell_type": "markdown",
      "source": [
        "#### Chart - 10"
      ],
      "metadata": {
        "id": "U2RJ9gkRphqQ"
      }
    },
    {
      "cell_type": "code",
      "source": [
        "\n",
        "# Visualising the who are the busy hosts through bar plot.\n",
        "host_name = list(busy_hosts['host_name'])\n",
        "review_count = list(busy_hosts['number_of_reviews'])\n",
        "host_name.reverse()\n",
        "review_count.reverse()\n",
        "\n",
        "plt.title('Busiest Hosts', {'fontsize':14})\n",
        "plt.xlabel('Host Names',{'fontsize':14})\n",
        "plt.ylabel('Number of reviews',{'fontsize':14})\n",
        "plt.barh(host_name, review_count,color='brown')\n"
      ],
      "metadata": {
        "id": "GM7a4YP4phqQ"
      },
      "execution_count": null,
      "outputs": []
    },
    {
      "cell_type": "markdown",
      "source": [
        "##### 1. Why did you pick the specific chart?"
      ],
      "metadata": {
        "id": "1M8mcRywphqQ"
      }
    },
    {
      "cell_type": "markdown",
      "source": [
        "To visualize who is the busy host among different hosts"
      ],
      "metadata": {
        "id": "8agQvks0phqQ"
      }
    },
    {
      "cell_type": "markdown",
      "source": [
        "##### 2. What is/are the insight(s) found from the chart?"
      ],
      "metadata": {
        "id": "tgIPom80phqQ"
      }
    },
    {
      "cell_type": "markdown",
      "source": [
        "It seems that Dona is the busy host who is an individual. That impies organizations having more properties are not doing well."
      ],
      "metadata": {
        "id": "Qp13pnNzphqQ"
      }
    },
    {
      "cell_type": "markdown",
      "source": [
        "##### 3. Will the gained insights help creating a positive business impact? \n",
        "Are there any insights that lead to negative growth? Justify with specific reason."
      ],
      "metadata": {
        "id": "JMzcOPDDphqR"
      }
    },
    {
      "cell_type": "markdown",
      "source": [
        "By seeing this, airbnb can work with organizations to improve the facilities and also give good experience for the guest.\n",
        "I am assuming if airbnb did not consider this as organizations hold most number of listings, people will shift to another platform and for another host."
      ],
      "metadata": {
        "id": "R4Ka1PC2phqR"
      }
    },
    {
      "cell_type": "markdown",
      "source": [
        "#### Chart - 11"
      ],
      "metadata": {
        "id": "x-EpHcCOp1ci"
      }
    },
    {
      "cell_type": "code",
      "source": [
        "# Visualizing the top 10 neighbourhood listings through bar plot\n",
        "plt.figure(figsize=(12,6))\n",
        "x = list(top_10_neighbourhood_listings.index)\n",
        "y = list(top_10_neighbourhood_listings.values)\n",
        "x.reverse()\n",
        "y.reverse()\n",
        "plt.title(\"Top 10 Neighbourhoods with the Most Listings\", {'fontsize':18})\n",
        "plt.ylabel(\"Neighbourhood\", {'fontsize':18})\n",
        "plt.xlabel(\"Total Listings\", {'fontsize':18})\n",
        "\n",
        "plt.barh(x, y)\n"
      ],
      "metadata": {
        "id": "mAQTIvtqp1cj"
      },
      "execution_count": null,
      "outputs": []
    },
    {
      "cell_type": "markdown",
      "source": [
        "##### 1. Why did you pick the specific chart?"
      ],
      "metadata": {
        "id": "X_VqEhTip1ck"
      }
    },
    {
      "cell_type": "markdown",
      "source": [
        "I have used horizontal bar plot to find which neighbourhood has more listings"
      ],
      "metadata": {
        "id": "-vsMzt_np1ck"
      }
    },
    {
      "cell_type": "markdown",
      "source": [
        "##### 2. What is/are the insight(s) found from the chart?"
      ],
      "metadata": {
        "id": "8zGJKyg5p1ck"
      }
    },
    {
      "cell_type": "markdown",
      "source": [
        "I found that bedford has highest listings followed by williamsburg both of brooklyn neighbourhood group. crown heights has least number of listings\n"
      ],
      "metadata": {
        "id": "ZYdMsrqVp1ck"
      }
    },
    {
      "cell_type": "markdown",
      "source": [
        "Answer Here"
      ],
      "metadata": {
        "id": "druuKYZpp1ck"
      }
    },
    {
      "cell_type": "markdown",
      "source": [
        "#### Chart - 12"
      ],
      "metadata": {
        "id": "n3dbpmDWp1ck"
      }
    },
    {
      "cell_type": "code",
      "source": [
        "# Visualising the busiest neighbourhoods through horizontal bar plot.\n",
        "host_name = list(busy_hosts['neighbourhood'])\n",
        "review_count = list(busy_hosts['number_of_reviews'])\n",
        "host_name.reverse()\n",
        "review_count.reverse()\n",
        "\n",
        "plt.title('Busy neighbourhoods', {'fontsize':14})\n",
        "plt.xlabel('number of reviews',{'fontsize':14})\n",
        "plt.ylabel('neighbourhood ',{'fontsize':14})\n",
        "plt.bar(host_name, review_count,color ='maroon',width=0.5)"
      ],
      "metadata": {
        "id": "bwevp1tKp1ck"
      },
      "execution_count": null,
      "outputs": []
    },
    {
      "cell_type": "markdown",
      "source": [
        "##### 1. Why did you pick the specific chart?"
      ],
      "metadata": {
        "id": "ylSl6qgtp1ck"
      }
    },
    {
      "cell_type": "markdown",
      "source": [
        "I have used bar plot to find busy neighbourhoods"
      ],
      "metadata": {
        "id": "m2xqNkiQp1ck"
      }
    },
    {
      "cell_type": "markdown",
      "source": [
        "##### 2. What is/are the insight(s) found from the chart?"
      ],
      "metadata": {
        "id": "ZWILFDl5p1ck"
      }
    },
    {
      "cell_type": "markdown",
      "source": [
        "Jamaica followed by Harlem are the busiest neighbourhoods."
      ],
      "metadata": {
        "id": "x-lUsV2mp1ck"
      }
    },
    {
      "cell_type": "markdown",
      "source": [
        "##### 3. Will the gained insights help creating a positive business impact? \n",
        "Are there any insights that lead to negative growth? Justify with specific reason."
      ],
      "metadata": {
        "id": "M7G43BXep1ck"
      }
    },
    {
      "cell_type": "markdown",
      "source": [
        "Airbnb need to find what are the feautures offfering in those properties in that particular area and need to implement them in other places also."
      ],
      "metadata": {
        "id": "5wwDJXsLp1cl"
      }
    },
    {
      "cell_type": "markdown",
      "source": [
        "#### Chart - 13"
      ],
      "metadata": {
        "id": "Ag9LCva-p1cl"
      }
    },
    {
      "cell_type": "code",
      "source": [
        "#Bar graph for displaying maximum price and minimum price according to location\n",
        "\n",
        "merge_price_df.plot(x=\"Location\", y='Minimum price', kind=\"bar\",color='green',width=0.1)\n",
        "merge_price_df.plot(x=\"Location\", y='Maximum price', kind=\"bar\",color='red',width=0.1)\n",
        "\n",
        "\n"
      ],
      "metadata": {
        "id": "EUfxeq9-p1cl"
      },
      "execution_count": null,
      "outputs": []
    },
    {
      "cell_type": "markdown",
      "source": [
        "##### 1. Why did you pick the specific chart?"
      ],
      "metadata": {
        "id": "E6MkPsBcp1cl"
      }
    },
    {
      "cell_type": "markdown",
      "source": [
        "I have chosen this bar graph to know the max price and min price of a particular neighbourhood group"
      ],
      "metadata": {
        "id": "V22bRsFWp1cl"
      }
    },
    {
      "cell_type": "markdown",
      "source": [
        "##### 2. What is/are the insight(s) found from the chart?"
      ],
      "metadata": {
        "id": "2cELzS2fp1cl"
      }
    },
    {
      "cell_type": "markdown",
      "source": [
        "Max price and min price of different area tells us that there are wide range of properties to chose from. Although, there is no demand in  staten island, minimun price is high compared to others. I think its beacause of being an island.\n",
        "Manhattan and Brooklyn has lavish homes to stay being the more choosen areas from rest of the places."
      ],
      "metadata": {
        "id": "ozQPc2_Ip1cl"
      }
    },
    {
      "cell_type": "markdown",
      "source": [
        "##### 3. Will the gained insights help creating a positive business impact? \n",
        "Are there any insights that lead to negative growth? Justify with specific reason."
      ],
      "metadata": {
        "id": "3MPXvC8up1cl"
      }
    },
    {
      "cell_type": "markdown",
      "source": [
        "Airbnb always need to keep check on this beacuse having all kinds of rooms with different price ranges is a must. Guests will have more options to choose.\n"
      ],
      "metadata": {
        "id": "GL8l1tdLp1cl"
      }
    },
    {
      "cell_type": "markdown",
      "source": [
        "#### Chart - 14 - Correlation Heatmap"
      ],
      "metadata": {
        "id": "NC_X3p0fY2L0"
      }
    },
    {
      "cell_type": "code",
      "source": [
        "# Correlation Heatmap visualization code\n",
        "corr = df_work.corr()\n",
        "plt.figure(figsize=(12,8))\n",
        "sns.heatmap(corr, annot=True)\n",
        "plt.show()"
      ],
      "metadata": {
        "id": "xyC9zolEZNRQ"
      },
      "execution_count": null,
      "outputs": []
    },
    {
      "cell_type": "markdown",
      "source": [
        "##### 1. Why did you pick the specific chart?"
      ],
      "metadata": {
        "id": "UV0SzAkaZNRQ"
      }
    },
    {
      "cell_type": "markdown",
      "source": [
        "correlation heat map gives the correlation between variables, which is used to perform analysis in a more efficient way.the value ranges from (-1,1)"
      ],
      "metadata": {
        "id": "DVPuT8LYZNRQ"
      }
    },
    {
      "cell_type": "markdown",
      "source": [
        "##### 2. What is/are the insight(s) found from the chart?"
      ],
      "metadata": {
        "id": "YPEH6qLeZNRQ"
      }
    },
    {
      "cell_type": "markdown",
      "source": [
        "I see that there is correlation between id and host id, also between number of reviews and reviews_per_month. So I can do my analysis with any one of the variable from the pair of correlated variables."
      ],
      "metadata": {
        "id": "bfSqtnDqZNRR"
      }
    },
    {
      "cell_type": "markdown",
      "source": [
        "#### Chart - 15 - Pair Plot "
      ],
      "metadata": {
        "id": "q29F0dvdveiT"
      }
    },
    {
      "cell_type": "code",
      "source": [
        "# Pair Plot visualization code\n",
        "\n",
        "sns.pairplot(df_work,hue='number_of_reviews')"
      ],
      "metadata": {
        "id": "o58-TEIhveiU"
      },
      "execution_count": null,
      "outputs": []
    },
    {
      "cell_type": "markdown",
      "source": [
        "##### 1. Why did you pick the specific chart?"
      ],
      "metadata": {
        "id": "EXh0U9oCveiU"
      }
    },
    {
      "cell_type": "markdown",
      "source": [
        "Seaborn Pairplot allows us to plot pairwise relationships between variables within a dataset. It gives us in single large picture. Here I have used number_of_reviews variable (as my objective is to understand guests and hosts behaviour) to check the relatioship with other variables. This is used essentially to get to know about our data and how our target variable is related with the rest of the variables"
      ],
      "metadata": {
        "id": "eMmPjTByveiU"
      }
    },
    {
      "cell_type": "markdown",
      "source": [
        "## **5. Solution to Business Objective**"
      ],
      "metadata": {
        "id": "JcMwzZxoAimU"
      }
    },
    {
      "cell_type": "markdown",
      "source": [
        "#### What do you suggest the client to achieve Business Objective ? \n",
        "Explain Briefly."
      ],
      "metadata": {
        "id": "8G2x9gOozGDZ"
      }
    },
    {
      "cell_type": "markdown",
      "source": [
        "**solution to improve their business**\n",
        "* Manhattan has most number of listings, followed by Brooklyn and Queens. Staten Island has least number of listings.\n",
        "* Airbnb needs to focus on why the properties in queens has more number of reviews with less number of listings than manhattan and Brooklyn. They need to list more in queens.\n",
        "* By reviewing the properties in queens, airbnb can implement that in other areas as well.\n",
        "* There is more demand for private and entire home/apartments, so they can increase the count of these room types and limit shared rooms. So that they can get more people to stay.\n",
        "* An individual hosting a property is more busy than a corporate who hosts. Need to look into those and should try to provide the same facilities an individual is providing.\n",
        "* Should give incentives to those busy individual hosts to encourage them to maintain like that.\n",
        "**Limitations**\n",
        "\n",
        "* Reviews has to be given negative or positive, it will make more sense to understand customer's behaviour. Now in this project assuming reviews to be positve based on the number of reviews assumed it as most preferred.\n",
        "\n",
        "* Attributes like ameneties are missing, which could help us to analyse guest behaviour more.\n",
        "\n"
      ],
      "metadata": {
        "id": "pASKb0qOza21"
      }
    },
    {
      "cell_type": "markdown",
      "source": [
        "# **Conclusion**"
      ],
      "metadata": {
        "id": "gCX9965dhzqZ"
      }
    },
    {
      "cell_type": "markdown",
      "source": [
        "By doing data analysis and visualization, I have gained several interesting insights into the Airbnb rental market.I analyzed what areas were more popular than another, their price variations, most busy host and neighbourhood and lot more.\n",
        "\n",
        "* Manhattan is the most focused place for hosts for doing business, followed by Brooklyn.\n",
        "\n",
        "* Customers pay highest amount in Brooklyn and Manhattan that is nearly 10,000 and lowest amount is 10$.\n",
        "\n",
        "* There are three types of rooms in which customer's prefer private and entire home most. Private rooms and Entire home type of listings are more.\n",
        "\n",
        "* The top hosts having more listings are organizations.\n",
        "\n",
        "* An individual hosting a property is being like more by customers than a company hosted property.\n",
        "\n",
        "* Staten island properties are more available than others throughout the year\n",
        "\n",
        "* Most Popular hosts are Sondar, Blueground, Kara.\n",
        "\n"
      ],
      "metadata": {
        "id": "Fjb1IsQkh3yE"
      }
    },
    {
      "cell_type": "markdown",
      "source": [
        "### ***Hurrah! You have successfully completed your EDA Capstone Project !!!***"
      ],
      "metadata": {
        "id": "gIfDvo9L0UH2"
      }
    }
  ]
}